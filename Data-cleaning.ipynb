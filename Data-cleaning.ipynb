{
 "cells": [
  {
   "cell_type": "markdown",
   "metadata": {},
   "source": [
    "### MSIS 2629 - Data Visualization and Dashboards\n",
    "### Ameya Ghatpande - Individual project\n",
    "### Rise of the Dragons - Asia'a life expectancy over last 50 years"
   ]
  },
  {
   "cell_type": "code",
   "execution_count": 1,
   "metadata": {
    "collapsed": true
   },
   "outputs": [],
   "source": [
    "# <aghatpande> on 07-Mar-2017\n",
    "# print all the outputs in a cell\n",
    "from IPython.core.interactiveshell import InteractiveShell\n",
    "InteractiveShell.ast_node_interactivity = \"all\""
   ]
  },
  {
   "cell_type": "code",
   "execution_count": 2,
   "metadata": {
    "collapsed": true
   },
   "outputs": [],
   "source": [
    "import pandas as pd\n",
    "import numpy as np"
   ]
  },
  {
   "cell_type": "code",
   "execution_count": 9,
   "metadata": {
    "collapsed": true
   },
   "outputs": [],
   "source": [
    "# Read the Life expectancy csv file\n",
    "lifeExpectancy = pd.read_csv(\"life-expectancy.csv\")"
   ]
  },
  {
   "cell_type": "code",
   "execution_count": 12,
   "metadata": {
    "collapsed": false
   },
   "outputs": [
    {
     "data": {
      "text/plain": [
       "14177"
      ]
     },
     "execution_count": 12,
     "metadata": {},
     "output_type": "execute_result"
    },
    {
     "data": {
      "text/html": [
       "<div>\n",
       "<table border=\"1\" class=\"dataframe\">\n",
       "  <thead>\n",
       "    <tr style=\"text-align: right;\">\n",
       "      <th></th>\n",
       "      <th>Entity</th>\n",
       "      <th>Year</th>\n",
       "      <th>Country code</th>\n",
       "      <th>Life Expectancy at Birth (both genders)</th>\n",
       "    </tr>\n",
       "  </thead>\n",
       "  <tbody>\n",
       "    <tr>\n",
       "      <th>0</th>\n",
       "      <td>Afghanistan</td>\n",
       "      <td>1950</td>\n",
       "      <td>AFG</td>\n",
       "      <td>27.706</td>\n",
       "    </tr>\n",
       "    <tr>\n",
       "      <th>1</th>\n",
       "      <td>Afghanistan</td>\n",
       "      <td>1951</td>\n",
       "      <td>AFG</td>\n",
       "      <td>27.706</td>\n",
       "    </tr>\n",
       "    <tr>\n",
       "      <th>2</th>\n",
       "      <td>Afghanistan</td>\n",
       "      <td>1952</td>\n",
       "      <td>AFG</td>\n",
       "      <td>27.706</td>\n",
       "    </tr>\n",
       "    <tr>\n",
       "      <th>3</th>\n",
       "      <td>Afghanistan</td>\n",
       "      <td>1953</td>\n",
       "      <td>AFG</td>\n",
       "      <td>27.706</td>\n",
       "    </tr>\n",
       "    <tr>\n",
       "      <th>4</th>\n",
       "      <td>Afghanistan</td>\n",
       "      <td>1954</td>\n",
       "      <td>AFG</td>\n",
       "      <td>27.706</td>\n",
       "    </tr>\n",
       "  </tbody>\n",
       "</table>\n",
       "</div>"
      ],
      "text/plain": [
       "        Entity  Year Country code  Life Expectancy at Birth (both genders)\n",
       "0  Afghanistan  1950          AFG                                   27.706\n",
       "1  Afghanistan  1951          AFG                                   27.706\n",
       "2  Afghanistan  1952          AFG                                   27.706\n",
       "3  Afghanistan  1953          AFG                                   27.706\n",
       "4  Afghanistan  1954          AFG                                   27.706"
      ]
     },
     "execution_count": 12,
     "metadata": {},
     "output_type": "execute_result"
    },
    {
     "data": {
      "text/plain": [
       "14177"
      ]
     },
     "execution_count": 12,
     "metadata": {},
     "output_type": "execute_result"
    }
   ],
   "source": [
    "len(lifeExpectancy)\n",
    "lifeExpectancy.head(5)\n",
    "lifeExpectancy = lifeExpectancy[lifeExpectancy.Entity.isnull() != True]\n",
    "lifeExpectancy = lifeExpectancy[lifeExpectancy.Year.isnull() != True]\n",
    "len(lifeExpectancy)"
   ]
  },
  {
   "cell_type": "markdown",
   "metadata": {},
   "source": [
    "### create a new column for world events like atomic bombings, epidemic flu etc"
   ]
  },
  {
   "cell_type": "code",
   "execution_count": 24,
   "metadata": {
    "collapsed": false
   },
   "outputs": [],
   "source": [
    "def worldEvents(Entity):\n",
    "    if Entity == \"Japan\":\n",
    "        return \"Hiroshima Nagasaki Atomic bombing\"\n",
    "    elif Entity ==\"Spain\" or Entity == \"United States\" or \"Entity\" == \"United Kingdom\":\n",
    "        return \"The great influenza epidemic\"\n",
    "    elif Entity == \"France\" or Entity == \"Russia\":\n",
    "        return \"The nightmare of Tuberculosis\""
   ]
  },
  {
   "cell_type": "code",
   "execution_count": 25,
   "metadata": {
    "collapsed": true
   },
   "outputs": [],
   "source": [
    "lifeExpectancy[\"Life-Threatening-events\"] = lifeExpectancy.Entity.apply(worldEvents)"
   ]
  },
  {
   "cell_type": "code",
   "execution_count": 27,
   "metadata": {
    "collapsed": false
   },
   "outputs": [
    {
     "data": {
      "text/html": [
       "<div>\n",
       "<table border=\"1\" class=\"dataframe\">\n",
       "  <thead>\n",
       "    <tr style=\"text-align: right;\">\n",
       "      <th></th>\n",
       "      <th>Entity</th>\n",
       "      <th>Year</th>\n",
       "      <th>Country code</th>\n",
       "      <th>Life Expectancy at Birth (both genders)</th>\n",
       "      <th>Life-Threatening-events</th>\n",
       "    </tr>\n",
       "  </thead>\n",
       "  <tbody>\n",
       "    <tr>\n",
       "      <th>10417</th>\n",
       "      <td>Russia</td>\n",
       "      <td>1896</td>\n",
       "      <td>RUS</td>\n",
       "      <td>31.9</td>\n",
       "      <td>The nightmare of Tuberculosis</td>\n",
       "    </tr>\n",
       "    <tr>\n",
       "      <th>10418</th>\n",
       "      <td>Russia</td>\n",
       "      <td>1900</td>\n",
       "      <td>RUS</td>\n",
       "      <td>30.5</td>\n",
       "      <td>The nightmare of Tuberculosis</td>\n",
       "    </tr>\n",
       "    <tr>\n",
       "      <th>10419</th>\n",
       "      <td>Russia</td>\n",
       "      <td>1920</td>\n",
       "      <td>RUS</td>\n",
       "      <td>20.5</td>\n",
       "      <td>The nightmare of Tuberculosis</td>\n",
       "    </tr>\n",
       "    <tr>\n",
       "      <th>10420</th>\n",
       "      <td>Russia</td>\n",
       "      <td>1921</td>\n",
       "      <td>RUS</td>\n",
       "      <td>23.8</td>\n",
       "      <td>The nightmare of Tuberculosis</td>\n",
       "    </tr>\n",
       "    <tr>\n",
       "      <th>10421</th>\n",
       "      <td>Russia</td>\n",
       "      <td>1922</td>\n",
       "      <td>RUS</td>\n",
       "      <td>24.7</td>\n",
       "      <td>The nightmare of Tuberculosis</td>\n",
       "    </tr>\n",
       "  </tbody>\n",
       "</table>\n",
       "</div>"
      ],
      "text/plain": [
       "       Entity  Year Country code  Life Expectancy at Birth (both genders)  \\\n",
       "10417  Russia  1896          RUS                                     31.9   \n",
       "10418  Russia  1900          RUS                                     30.5   \n",
       "10419  Russia  1920          RUS                                     20.5   \n",
       "10420  Russia  1921          RUS                                     23.8   \n",
       "10421  Russia  1922          RUS                                     24.7   \n",
       "\n",
       "             Life-Threatening-events  \n",
       "10417  The nightmare of Tuberculosis  \n",
       "10418  The nightmare of Tuberculosis  \n",
       "10419  The nightmare of Tuberculosis  \n",
       "10420  The nightmare of Tuberculosis  \n",
       "10421  The nightmare of Tuberculosis  "
      ]
     },
     "execution_count": 27,
     "metadata": {},
     "output_type": "execute_result"
    }
   ],
   "source": [
    "lifeExpectancy[((lifeExpectancy.Entity == \"Russia\") | (lifeExpectancy.Entity == \"Russia\"))].head(5)"
   ]
  },
  {
   "cell_type": "markdown",
   "metadata": {},
   "source": [
    "### Save the newly created column of world events in the scv file"
   ]
  },
  {
   "cell_type": "code",
   "execution_count": 28,
   "metadata": {
    "collapsed": true
   },
   "outputs": [],
   "source": [
    "lifeExpectancy.to_csv(\"life-expectancy.csv\")"
   ]
  },
  {
   "cell_type": "markdown",
   "metadata": {},
   "source": [
    "#### Open a new file for checking the relation between life expectancy and Health care spendings "
   ]
  },
  {
   "cell_type": "code",
   "execution_count": 29,
   "metadata": {
    "collapsed": false
   },
   "outputs": [],
   "source": [
    "lifeAndHealth = pd.read_csv(\"life-expectancy-vs-healthcare-expenditure.csv\")"
   ]
  },
  {
   "cell_type": "code",
   "execution_count": 30,
   "metadata": {
    "collapsed": false
   },
   "outputs": [
    {
     "data": {
      "text/plain": [
       "12441"
      ]
     },
     "execution_count": 30,
     "metadata": {},
     "output_type": "execute_result"
    },
    {
     "data": {
      "text/html": [
       "<div>\n",
       "<table border=\"1\" class=\"dataframe\">\n",
       "  <thead>\n",
       "    <tr style=\"text-align: right;\">\n",
       "      <th></th>\n",
       "      <th>Entity</th>\n",
       "      <th>Year</th>\n",
       "      <th>Country code</th>\n",
       "      <th>Health Expenditure per capita (WDI)</th>\n",
       "      <th>Life Expectancy (at birth) World Bank data</th>\n",
       "    </tr>\n",
       "  </thead>\n",
       "  <tbody>\n",
       "    <tr>\n",
       "      <th>0</th>\n",
       "      <td>Afghanistan</td>\n",
       "      <td>1960</td>\n",
       "      <td>AFG</td>\n",
       "      <td>NaN</td>\n",
       "      <td>31.580049</td>\n",
       "    </tr>\n",
       "    <tr>\n",
       "      <th>1</th>\n",
       "      <td>Afghanistan</td>\n",
       "      <td>1961</td>\n",
       "      <td>AFG</td>\n",
       "      <td>NaN</td>\n",
       "      <td>32.095976</td>\n",
       "    </tr>\n",
       "    <tr>\n",
       "      <th>2</th>\n",
       "      <td>Afghanistan</td>\n",
       "      <td>1962</td>\n",
       "      <td>AFG</td>\n",
       "      <td>NaN</td>\n",
       "      <td>32.611878</td>\n",
       "    </tr>\n",
       "    <tr>\n",
       "      <th>3</th>\n",
       "      <td>Afghanistan</td>\n",
       "      <td>1963</td>\n",
       "      <td>AFG</td>\n",
       "      <td>NaN</td>\n",
       "      <td>33.127317</td>\n",
       "    </tr>\n",
       "    <tr>\n",
       "      <th>4</th>\n",
       "      <td>Afghanistan</td>\n",
       "      <td>1964</td>\n",
       "      <td>AFG</td>\n",
       "      <td>NaN</td>\n",
       "      <td>33.641244</td>\n",
       "    </tr>\n",
       "    <tr>\n",
       "      <th>5</th>\n",
       "      <td>Afghanistan</td>\n",
       "      <td>1965</td>\n",
       "      <td>AFG</td>\n",
       "      <td>NaN</td>\n",
       "      <td>34.153683</td>\n",
       "    </tr>\n",
       "    <tr>\n",
       "      <th>6</th>\n",
       "      <td>Afghanistan</td>\n",
       "      <td>1966</td>\n",
       "      <td>AFG</td>\n",
       "      <td>NaN</td>\n",
       "      <td>34.663122</td>\n",
       "    </tr>\n",
       "    <tr>\n",
       "      <th>7</th>\n",
       "      <td>Afghanistan</td>\n",
       "      <td>1967</td>\n",
       "      <td>AFG</td>\n",
       "      <td>NaN</td>\n",
       "      <td>35.170073</td>\n",
       "    </tr>\n",
       "    <tr>\n",
       "      <th>8</th>\n",
       "      <td>Afghanistan</td>\n",
       "      <td>1968</td>\n",
       "      <td>AFG</td>\n",
       "      <td>NaN</td>\n",
       "      <td>35.672024</td>\n",
       "    </tr>\n",
       "    <tr>\n",
       "      <th>9</th>\n",
       "      <td>Afghanistan</td>\n",
       "      <td>1969</td>\n",
       "      <td>AFG</td>\n",
       "      <td>NaN</td>\n",
       "      <td>36.169976</td>\n",
       "    </tr>\n",
       "  </tbody>\n",
       "</table>\n",
       "</div>"
      ],
      "text/plain": [
       "        Entity  Year Country code  Health Expenditure per capita (WDI)  \\\n",
       "0  Afghanistan  1960          AFG                                  NaN   \n",
       "1  Afghanistan  1961          AFG                                  NaN   \n",
       "2  Afghanistan  1962          AFG                                  NaN   \n",
       "3  Afghanistan  1963          AFG                                  NaN   \n",
       "4  Afghanistan  1964          AFG                                  NaN   \n",
       "5  Afghanistan  1965          AFG                                  NaN   \n",
       "6  Afghanistan  1966          AFG                                  NaN   \n",
       "7  Afghanistan  1967          AFG                                  NaN   \n",
       "8  Afghanistan  1968          AFG                                  NaN   \n",
       "9  Afghanistan  1969          AFG                                  NaN   \n",
       "\n",
       "   Life Expectancy (at birth) World Bank data  \n",
       "0                                   31.580049  \n",
       "1                                   32.095976  \n",
       "2                                   32.611878  \n",
       "3                                   33.127317  \n",
       "4                                   33.641244  \n",
       "5                                   34.153683  \n",
       "6                                   34.663122  \n",
       "7                                   35.170073  \n",
       "8                                   35.672024  \n",
       "9                                   36.169976  "
      ]
     },
     "execution_count": 30,
     "metadata": {},
     "output_type": "execute_result"
    }
   ],
   "source": [
    "len(lifeAndHealth)\n",
    "lifeAndHealth[lifeAndHealth.Entity == \"Afghanistan\"].head(10)"
   ]
  },
  {
   "cell_type": "markdown",
   "metadata": {},
   "source": [
    "### Remove the NaN's"
   ]
  },
  {
   "cell_type": "code",
   "execution_count": 31,
   "metadata": {
    "collapsed": false
   },
   "outputs": [],
   "source": [
    "lifeAndHealth = lifeAndHealth[lifeAndHealth[\"Health Expenditure per capita (WDI)\"].isnull() != True]"
   ]
  },
  {
   "cell_type": "code",
   "execution_count": 32,
   "metadata": {
    "collapsed": false
   },
   "outputs": [
    {
     "data": {
      "text/plain": [
       "3543"
      ]
     },
     "execution_count": 32,
     "metadata": {},
     "output_type": "execute_result"
    }
   ],
   "source": [
    "len(lifeAndHealth)"
   ]
  },
  {
   "cell_type": "code",
   "execution_count": 33,
   "metadata": {
    "collapsed": false
   },
   "outputs": [
    {
     "data": {
      "text/html": [
       "<div>\n",
       "<table border=\"1\" class=\"dataframe\">\n",
       "  <thead>\n",
       "    <tr style=\"text-align: right;\">\n",
       "      <th></th>\n",
       "      <th>Entity</th>\n",
       "      <th>Year</th>\n",
       "      <th>Country code</th>\n",
       "      <th>Health Expenditure per capita (WDI)</th>\n",
       "      <th>Life Expectancy (at birth) World Bank data</th>\n",
       "    </tr>\n",
       "  </thead>\n",
       "  <tbody>\n",
       "    <tr>\n",
       "      <th>42</th>\n",
       "      <td>Afghanistan</td>\n",
       "      <td>2002</td>\n",
       "      <td>AFG</td>\n",
       "      <td>77.562874</td>\n",
       "      <td>55.671878</td>\n",
       "    </tr>\n",
       "    <tr>\n",
       "      <th>43</th>\n",
       "      <td>Afghanistan</td>\n",
       "      <td>2003</td>\n",
       "      <td>AFG</td>\n",
       "      <td>91.867101</td>\n",
       "      <td>56.107561</td>\n",
       "    </tr>\n",
       "    <tr>\n",
       "      <th>44</th>\n",
       "      <td>Afghanistan</td>\n",
       "      <td>2004</td>\n",
       "      <td>AFG</td>\n",
       "      <td>90.123345</td>\n",
       "      <td>56.569732</td>\n",
       "    </tr>\n",
       "    <tr>\n",
       "      <th>45</th>\n",
       "      <td>Afghanistan</td>\n",
       "      <td>2005</td>\n",
       "      <td>AFG</td>\n",
       "      <td>94.045016</td>\n",
       "      <td>57.058439</td>\n",
       "    </tr>\n",
       "    <tr>\n",
       "      <th>46</th>\n",
       "      <td>Afghanistan</td>\n",
       "      <td>2006</td>\n",
       "      <td>AFG</td>\n",
       "      <td>98.527584</td>\n",
       "      <td>57.570659</td>\n",
       "    </tr>\n",
       "  </tbody>\n",
       "</table>\n",
       "</div>"
      ],
      "text/plain": [
       "         Entity  Year Country code  Health Expenditure per capita (WDI)  \\\n",
       "42  Afghanistan  2002          AFG                            77.562874   \n",
       "43  Afghanistan  2003          AFG                            91.867101   \n",
       "44  Afghanistan  2004          AFG                            90.123345   \n",
       "45  Afghanistan  2005          AFG                            94.045016   \n",
       "46  Afghanistan  2006          AFG                            98.527584   \n",
       "\n",
       "    Life Expectancy (at birth) World Bank data  \n",
       "42                                   55.671878  \n",
       "43                                   56.107561  \n",
       "44                                   56.569732  \n",
       "45                                   57.058439  \n",
       "46                                   57.570659  "
      ]
     },
     "execution_count": 33,
     "metadata": {},
     "output_type": "execute_result"
    }
   ],
   "source": [
    "lifeAndHealth.head(5)"
   ]
  },
  {
   "cell_type": "markdown",
   "metadata": {},
   "source": [
    "### Now create the dollar value of life\n",
    "### Dollar-value-of-life = Per capita spending per year / life expectany in that year\n",
    "\n",
    "#### The smaller the value of this ratio, better is the result "
   ]
  },
  {
   "cell_type": "code",
   "execution_count": 34,
   "metadata": {
    "collapsed": true
   },
   "outputs": [],
   "source": [
    "lifeAndHealth[\"DollarValueOfLife\"] = lifeAndHealth[\"Health Expenditure per capita (WDI)\"]/ lifeAndHealth[\"Life Expectancy (at birth) World Bank data\"]"
   ]
  },
  {
   "cell_type": "code",
   "execution_count": 35,
   "metadata": {
    "collapsed": false,
    "scrolled": true
   },
   "outputs": [
    {
     "name": "stderr",
     "output_type": "stream",
     "text": [
      "/Users/test/Library/Enthought/Canopy_64bit/User/lib/python2.7/site-packages/ipykernel/__main__.py:1: FutureWarning: sort(columns=....) is deprecated, use sort_values(by=.....)\n",
      "  if __name__ == '__main__':\n"
     ]
    },
    {
     "data": {
      "text/html": [
       "<div>\n",
       "<table border=\"1\" class=\"dataframe\">\n",
       "  <thead>\n",
       "    <tr style=\"text-align: right;\">\n",
       "      <th></th>\n",
       "      <th>Entity</th>\n",
       "      <th>Year</th>\n",
       "      <th>Country code</th>\n",
       "      <th>Health Expenditure per capita (WDI)</th>\n",
       "      <th>Life Expectancy (at birth) World Bank data</th>\n",
       "      <th>DollarValueOfLife</th>\n",
       "    </tr>\n",
       "  </thead>\n",
       "  <tbody>\n",
       "    <tr>\n",
       "      <th>11846</th>\n",
       "      <td>United States</td>\n",
       "      <td>2013</td>\n",
       "      <td>USA</td>\n",
       "      <td>9145.828151</td>\n",
       "      <td>78.841463</td>\n",
       "      <td>116.002770</td>\n",
       "    </tr>\n",
       "    <tr>\n",
       "      <th>6712</th>\n",
       "      <td>Luxembourg</td>\n",
       "      <td>2013</td>\n",
       "      <td>LUX</td>\n",
       "      <td>6518.220306</td>\n",
       "      <td>81.797561</td>\n",
       "      <td>79.687221</td>\n",
       "    </tr>\n",
       "    <tr>\n",
       "      <th>8479</th>\n",
       "      <td>Norway</td>\n",
       "      <td>2013</td>\n",
       "      <td>NOR</td>\n",
       "      <td>6307.782585</td>\n",
       "      <td>81.451220</td>\n",
       "      <td>77.442457</td>\n",
       "    </tr>\n",
       "    <tr>\n",
       "      <th>10963</th>\n",
       "      <td>Switzerland</td>\n",
       "      <td>2013</td>\n",
       "      <td>CHE</td>\n",
       "      <td>6186.651276</td>\n",
       "      <td>82.748780</td>\n",
       "      <td>74.764259</td>\n",
       "    </tr>\n",
       "    <tr>\n",
       "      <th>8047</th>\n",
       "      <td>Netherlands</td>\n",
       "      <td>2013</td>\n",
       "      <td>NLD</td>\n",
       "      <td>5601.105320</td>\n",
       "      <td>81.104878</td>\n",
       "      <td>69.060030</td>\n",
       "    </tr>\n",
       "    <tr>\n",
       "      <th>612</th>\n",
       "      <td>Austria</td>\n",
       "      <td>2013</td>\n",
       "      <td>AUT</td>\n",
       "      <td>4884.618310</td>\n",
       "      <td>80.890244</td>\n",
       "      <td>60.385753</td>\n",
       "    </tr>\n",
       "    <tr>\n",
       "      <th>4143</th>\n",
       "      <td>Germany</td>\n",
       "      <td>2013</td>\n",
       "      <td>DEU</td>\n",
       "      <td>4811.815405</td>\n",
       "      <td>81.043902</td>\n",
       "      <td>59.372948</td>\n",
       "    </tr>\n",
       "    <tr>\n",
       "      <th>1764</th>\n",
       "      <td>Canada</td>\n",
       "      <td>2013</td>\n",
       "      <td>CAN</td>\n",
       "      <td>4759.314874</td>\n",
       "      <td>81.401122</td>\n",
       "      <td>58.467436</td>\n",
       "    </tr>\n",
       "    <tr>\n",
       "      <th>2795</th>\n",
       "      <td>Denmark</td>\n",
       "      <td>2013</td>\n",
       "      <td>DNK</td>\n",
       "      <td>4552.399747</td>\n",
       "      <td>80.302439</td>\n",
       "      <td>56.690678</td>\n",
       "    </tr>\n",
       "    <tr>\n",
       "      <th>990</th>\n",
       "      <td>Belgium</td>\n",
       "      <td>2013</td>\n",
       "      <td>BEL</td>\n",
       "      <td>4526.081135</td>\n",
       "      <td>80.385366</td>\n",
       "      <td>56.304790</td>\n",
       "    </tr>\n",
       "  </tbody>\n",
       "</table>\n",
       "</div>"
      ],
      "text/plain": [
       "              Entity  Year Country code  Health Expenditure per capita (WDI)  \\\n",
       "11846  United States  2013          USA                          9145.828151   \n",
       "6712      Luxembourg  2013          LUX                          6518.220306   \n",
       "8479          Norway  2013          NOR                          6307.782585   \n",
       "10963    Switzerland  2013          CHE                          6186.651276   \n",
       "8047     Netherlands  2013          NLD                          5601.105320   \n",
       "612          Austria  2013          AUT                          4884.618310   \n",
       "4143         Germany  2013          DEU                          4811.815405   \n",
       "1764          Canada  2013          CAN                          4759.314874   \n",
       "2795         Denmark  2013          DNK                          4552.399747   \n",
       "990          Belgium  2013          BEL                          4526.081135   \n",
       "\n",
       "       Life Expectancy (at birth) World Bank data  DollarValueOfLife  \n",
       "11846                                   78.841463         116.002770  \n",
       "6712                                    81.797561          79.687221  \n",
       "8479                                    81.451220          77.442457  \n",
       "10963                                   82.748780          74.764259  \n",
       "8047                                    81.104878          69.060030  \n",
       "612                                     80.890244          60.385753  \n",
       "4143                                    81.043902          59.372948  \n",
       "1764                                    81.401122          58.467436  \n",
       "2795                                    80.302439          56.690678  \n",
       "990                                     80.385366          56.304790  "
      ]
     },
     "execution_count": 35,
     "metadata": {},
     "output_type": "execute_result"
    }
   ],
   "source": [
    "lifeAndHealth[lifeAndHealth.Year == 2013].sort(\"DollarValueOfLife\", ascending = False).head(10)"
   ]
  },
  {
   "cell_type": "code",
   "execution_count": 36,
   "metadata": {
    "collapsed": true
   },
   "outputs": [],
   "source": [
    "lifeAndHealth.to_csv(\"life-expectancy-vs-healthcare-expenditure.csv\")"
   ]
  },
  {
   "cell_type": "code",
   "execution_count": null,
   "metadata": {
    "collapsed": true
   },
   "outputs": [],
   "source": []
  }
 ],
 "metadata": {
  "kernelspec": {
   "display_name": "Python 2",
   "language": "python",
   "name": "python2"
  },
  "language_info": {
   "codemirror_mode": {
    "name": "ipython",
    "version": 2
   },
   "file_extension": ".py",
   "mimetype": "text/x-python",
   "name": "python",
   "nbconvert_exporter": "python",
   "pygments_lexer": "ipython2",
   "version": "2.7.11"
  }
 },
 "nbformat": 4,
 "nbformat_minor": 0
}
